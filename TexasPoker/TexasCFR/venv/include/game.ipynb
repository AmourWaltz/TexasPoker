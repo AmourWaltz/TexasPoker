{
 "cells": [
  {
   "cell_type": "markdown",
   "metadata": {
    "pycharm": {
     "name": "#%% md\n"
    }
   },
   "source": [
    "## from game import Game\n",
    "\n",
    "if __name__ == '__main__':\n",
    "    invictus_Gaming = Game()\n",
    "    invictus_Gaming.start()"
   ]
  },
  {
   "cell_type": "code",
   "execution_count": 1,
   "metadata": {
    "pycharm": {
     "name": "#%%\n"
    }
   },
   "outputs": [
    {
     "name": "stdout",
     "output_type": "stream",
     "text": [
      "\n",
      "----------------------------------\n",
      "\n",
      "1 49 [\u001b[107;30m♠\u001b[0mQ, \u001b[107;30m♣\u001b[0m3] [] True 0\n",
      "2 48 [\u001b[107;91m♦\u001b[0m10, \u001b[107;30m♠\u001b[0m3] [] True 1\n",
      "state type: 0\n",
      "1\n",
      "[call, raise, fold]\n",
      "Player 1 : 1\n",
      "Player 1 called.\n",
      "last action: call\n",
      "5\n",
      "[call, raise, fold]\n",
      "Player 2 : 1\n",
      "Player 2 called.\n",
      "last action: call\n",
      "9\n",
      "\n",
      "\t\t[\u001b[107;91m♦\u001b[0mK, \u001b[107;30m♣\u001b[0mQ, \u001b[107;30m♣\u001b[0m6]\n",
      "\n",
      "1 48 [\u001b[107;30m♠\u001b[0mQ, \u001b[107;30m♣\u001b[0m3] [bet] True 0\n",
      "2 47 [\u001b[107;91m♦\u001b[0m10, \u001b[107;30m♠\u001b[0m3] [call] True 1\n",
      "state type: 1\n",
      "2\n",
      "[check, bet, fold]\n",
      "Player 1 : 1\n",
      "Player 1 called.\n",
      "last action: call\n",
      "5\n",
      "[call, raise, fold]\n",
      "Player 2 : 1\n",
      "Player 2 called.\n",
      "last action: call\n",
      "7\n",
      "1 47 [\u001b[107;30m♠\u001b[0mQ, \u001b[107;30m♣\u001b[0m3] [bet, bet] True 0\n",
      "2 46 [\u001b[107;91m♦\u001b[0m10, \u001b[107;30m♠\u001b[0m3] [call, call] True 1\n",
      "\n",
      "\t\t[\u001b[107;91m♦\u001b[0mK, \u001b[107;30m♣\u001b[0mQ, \u001b[107;30m♣\u001b[0m6, \u001b[107;91m♥\u001b[0m10]\n",
      "\n",
      "state type: 1\n",
      "2\n",
      "[check, bet, fold]\n",
      "Player 1 : 1\n",
      "Player 1 called.\n",
      "last action: call\n",
      "5\n",
      "[call, raise, fold]\n",
      "Player 2 : 1\n",
      "Player 2 called.\n",
      "last action: call\n",
      "7\n",
      "\n",
      "\t\t[\u001b[107;91m♦\u001b[0mK, \u001b[107;30m♣\u001b[0mQ, \u001b[107;30m♣\u001b[0m6, \u001b[107;91m♥\u001b[0m10, \u001b[107;30m♠\u001b[0m4]\n",
      "\n",
      "Player 1 : [\u001b[107;30m♠\u001b[0mQ, \u001b[107;30m♣\u001b[0m3]\n",
      "Player 2 : [\u001b[107;91m♦\u001b[0m10, \u001b[107;30m♠\u001b[0m3]\n",
      "Player 1 : [1, 12, 13, 10, 6, 0]\n",
      "Player 2 : [1, 10, 13, 12, 6, 0]\n",
      "Debugging Test winner_id : (1, [1, 12, 13, 10, 6, 0], [1, 10, 13, 12, 6, 0])\n",
      "1 46 [\u001b[107;30m♠\u001b[0mQ, \u001b[107;30m♣\u001b[0m3] [bet, bet, bet] True 0\n",
      "2 45 [\u001b[107;91m♦\u001b[0m10, \u001b[107;30m♠\u001b[0m3] [call, call, call] True 1\n",
      "\n",
      "----------------------------------\n",
      "\n"
     ]
    },
    {
     "ename": "NameError",
     "evalue": "name 'name' is not defined",
     "output_type": "error",
     "traceback": [
      "\u001b[0;31m---------------------------------------------------------------------------\u001b[0m",
      "\u001b[0;31mNameError\u001b[0m                                 Traceback (most recent call last)",
      "\u001b[0;32m<ipython-input-1-800bc2c14a42>\u001b[0m in \u001b[0;36m<module>\u001b[0;34m\u001b[0m\n\u001b[1;32m      1\u001b[0m \u001b[0;32mfrom\u001b[0m \u001b[0mgame\u001b[0m \u001b[0;32mimport\u001b[0m \u001b[0mGame\u001b[0m\u001b[0;34m\u001b[0m\u001b[0;34m\u001b[0m\u001b[0m\n\u001b[0;32m----> 2\u001b[0;31m \u001b[0;32mif\u001b[0m \u001b[0mname\u001b[0m \u001b[0;34m==\u001b[0m \u001b[0;34m'main'\u001b[0m\u001b[0;34m:\u001b[0m\u001b[0;34m\u001b[0m\u001b[0;34m\u001b[0m\u001b[0m\n\u001b[0m\u001b[1;32m      3\u001b[0m     \u001b[0minvictus_Gaming\u001b[0m \u001b[0;34m=\u001b[0m \u001b[0mGame\u001b[0m\u001b[0;34m(\u001b[0m\u001b[0;34m)\u001b[0m\u001b[0;34m\u001b[0m\u001b[0;34m\u001b[0m\u001b[0m\n\u001b[1;32m      4\u001b[0m     \u001b[0minvictus_Gaming\u001b[0m\u001b[0;34m.\u001b[0m\u001b[0mstart\u001b[0m\u001b[0;34m(\u001b[0m\u001b[0;34m)\u001b[0m\u001b[0;34m\u001b[0m\u001b[0;34m\u001b[0m\u001b[0m\n",
      "\u001b[0;31mNameError\u001b[0m: name 'name' is not defined"
     ]
    }
   ],
   "source": [
    "from game import Game\n",
    "if name == 'main': \n",
    "    invictus_Gaming = Game() \n",
    "    invictus_Gaming.start()"
   ]
  },
  {
   "cell_type": "code",
   "execution_count": null,
   "metadata": {},
   "outputs": [],
   "source": []
  },
  {
   "cell_type": "code",
   "execution_count": null,
   "metadata": {},
   "outputs": [],
   "source": []
  }
 ],
 "metadata": {
  "kernelspec": {
   "display_name": "Python 3",
   "language": "python",
   "name": "python3"
  },
  "language_info": {
   "codemirror_mode": {
    "name": "ipython",
    "version": 3
   },
   "file_extension": ".py",
   "mimetype": "text/x-python",
   "name": "python",
   "nbconvert_exporter": "python",
   "pygments_lexer": "ipython3",
   "version": "3.7.4"
  },
  "pycharm": {
   "stem_cell": {
    "cell_type": "raw",
    "metadata": {
     "collapsed": false
    },
    "source": []
   }
  }
 },
 "nbformat": 4,
 "nbformat_minor": 2
}
