{
 "cells": [
  {
   "cell_type": "code",
   "execution_count": 1,
   "metadata": {},
   "outputs": [
    {
     "name": "stdout",
     "output_type": "stream",
     "text": [
      "{'1': [0.8844214243376403, 0.11557857566235978], '1b': [0.9999850384511805, 1.4961548819533798e-05], '1p': [0.6679330159931033, 0.3320669840068967], '1pb': [0.9999915233552084, 8.476644791647738e-06], '2': [0.9995503225924515, 0.0004496774075484353], '2b': [0.6690642731323934, 0.33093572686760664], '2p': [0.9999698258954166, 3.0174104583446486e-05], '2pb': [0.5513012927036762, 0.44869870729632366], '3': [0.659709051931331, 0.34029094806866905], '3b': [1.4952153110047847e-05, 0.9999850478468899], '3p': [1.4952153110047847e-05, 0.9999850478468899], '3pb': [1.1424284273779497e-05, 0.9999885757157262]}\n"
     ]
    }
   ],
   "source": [
    "import numpy as np\n",
    "import game\n",
    "\n",
    "if __name__ == '__main__':\n",
    "    '''\n",
    "    # 训练好的代码进行人机游戏，洗牌后发牌\n",
    "    np.random.shuffle(game.poker)\n",
    "    # p1是人 p2代表电脑\n",
    "    p1 = game.Player(0, game.poker[0], game.AI_state)\n",
    "    p2 = game.Player(2, game.poker[1], game.AI_state)\n",
    "    game1 = game.Game(p1, p2)\n",
    "    game1.flow('', 1)\n",
    "    game1.show_result()\n",
    "    '''\n",
    " \n",
    "    # 自己进行CFR训练\n",
    "    p1 = game.Player(2, game.poker[0], game.states)\n",
    "    p2 = game.Player(2, game.poker[1], game.states)\n",
    "    game1 = game.Game(p1, p2)\n",
    "    for i in range(100000):\n",
    "        np.random.shuffle(game.poker)\n",
    "        p1.hand = game.poker[0]\n",
    "        p2.hand = game.poker[1]\n",
    "        game1.CFR_algorithm('', 1, 1)\n",
    "    print(game.CFR_s2)\n"
   ]
  },
  {
   "cell_type": "code",
   "execution_count": null,
   "metadata": {},
   "outputs": [],
   "source": []
  }
 ],
 "metadata": {
  "kernelspec": {
   "display_name": "Python 3",
   "language": "python",
   "name": "python3"
  },
  "language_info": {
   "codemirror_mode": {
    "name": "ipython",
    "version": 3
   },
   "file_extension": ".py",
   "mimetype": "text/x-python",
   "name": "python",
   "nbconvert_exporter": "python",
   "pygments_lexer": "ipython3",
   "version": "3.7.4"
  }
 },
 "nbformat": 4,
 "nbformat_minor": 2
}
