{
 "cells": [
  {
   "cell_type": "code",
   "execution_count": null,
   "metadata": {},
   "outputs": [
    {
     "name": "stdout",
     "output_type": "stream",
     "text": [
      "your hand is: 1\n"
     ]
    }
   ],
   "source": [
    "import numpy as np\n",
    "import game\n",
    "\n",
    "if __name__ == '__main__':\n",
    "    # 训练好的代码进行人机游戏，洗牌后发牌\n",
    "    np.random.shuffle(game.poker)\n",
    "    # p1是人 p2代表电脑\n",
    "    p1 = game.Player(0, game.poker[0], game.AI_state)\n",
    "    p2 = game.Player(2, game.poker[1], game.AI_state)\n",
    "    game1 = game.Game(p1, p2)\n",
    "    game1.flow('', 1)\n",
    "    game1.show_result()\n",
    " \n",
    "    # 自己进行CFR训练\n",
    "    '''\n",
    "    p1 = game.Player(2, game.poker[0], game.states)\n",
    "    p2 = game.Player(2, game.poker[1], game.states)\n",
    "    game1 = game.Game(p1, p2)\n",
    "    for i in range(100000):\n",
    "        np.random.shuffle(game.poker)\n",
    "        p1.hand = game.poker[0]\n",
    "        p2.hand = game.poker[1]\n",
    "        game1.CFR_algorithm('', 1, 1)\n",
    "    print(game.CFR_s2)\n",
    "    '''\n"
   ]
  },
  {
   "cell_type": "code",
   "execution_count": 1,
   "metadata": {},
   "outputs": [
    {
     "data": {
      "text/plain": [
       "5"
      ]
     },
     "execution_count": 1,
     "metadata": {},
     "output_type": "execute_result"
    }
   ],
   "source": [
    "a = 5\n",
    "a"
   ]
  },
  {
   "cell_type": "code",
   "execution_count": null,
   "metadata": {},
   "outputs": [],
   "source": []
  }
 ],
 "metadata": {
  "kernelspec": {
   "display_name": "Python 3",
   "language": "python",
   "name": "python3"
  },
  "language_info": {
   "codemirror_mode": {
    "name": "ipython",
    "version": 3
   },
   "file_extension": ".py",
   "mimetype": "text/x-python",
   "name": "python",
   "nbconvert_exporter": "python",
   "pygments_lexer": "ipython3",
   "version": "3.7.4"
  }
 },
 "nbformat": 4,
 "nbformat_minor": 2
}
